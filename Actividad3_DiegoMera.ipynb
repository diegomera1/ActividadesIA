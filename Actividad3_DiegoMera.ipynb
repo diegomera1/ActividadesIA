{
  "nbformat": 4,
  "nbformat_minor": 0,
  "metadata": {
    "colab": {
      "provenance": [],
      "authorship_tag": "ABX9TyNNP4QRNIX5EbNLiDvvwGld",
      "include_colab_link": true
    },
    "kernelspec": {
      "name": "python3",
      "display_name": "Python 3"
    },
    "language_info": {
      "name": "python"
    }
  },
  "cells": [
    {
      "cell_type": "markdown",
      "metadata": {
        "id": "view-in-github",
        "colab_type": "text"
      },
      "source": [
        "<a href=\"https://colab.research.google.com/github/diegomera1/ActividadesIA/blob/main/Actividad3_DiegoMera.ipynb\" target=\"_parent\"><img src=\"https://colab.research.google.com/assets/colab-badge.svg\" alt=\"Open In Colab\"/></a>"
      ]
    },
    {
      "cell_type": "markdown",
      "source": [
        "ACTIVIDAD 3\n",
        "Con estos datos que ya tienes agrega una nueva columna para que puedas predecir, en esa columna ahora vas a tener el país del programador. Ojo, recuerda que la regresión lineal simple solo trabaja con datos continuos, así que cada país deberás represarlo con un número, por ejemplo Ecuador = 1, España = 2."
      ],
      "metadata": {
        "id": "sHW7QHNNOmdC"
      }
    },
    {
      "cell_type": "code",
      "source": [
        "import pandas as pd\n",
        "import matplotlib.pyplot as plt\n",
        "from sklearn.model_selection import train_test_split\n",
        "from sklearn.linear_model import LinearRegression\n",
        "     "
      ],
      "metadata": {
        "id": "U--RVcUCRSVg"
      },
      "execution_count": 15,
      "outputs": []
    },
    {
      "cell_type": "code",
      "source": [
        "dataset = pd.read_csv('salarios_paises.csv')"
      ],
      "metadata": {
        "id": "_jAZ9eoWTG7R"
      },
      "execution_count": 16,
      "outputs": []
    },
    {
      "cell_type": "code",
      "source": [
        "x = dataset.iloc[:,:-2].values\n",
        "y = dataset.iloc[:,1:2].values\n",
        "z = dataset.iloc[:,2:3].values"
      ],
      "metadata": {
        "id": "lXT6SN6NTYRP"
      },
      "execution_count": 17,
      "outputs": []
    },
    {
      "cell_type": "code",
      "source": [
        "x_train, x_test, y_train, y_test, z_train, z_test = train_test_split(x, y, z, test_size = 0.2, random_state = 0)\n",
        "x_train"
      ],
      "metadata": {
        "colab": {
          "base_uri": "https://localhost:8080/"
        },
        "id": "r0-kjIa4TjLQ",
        "outputId": "ba71a176-5512-4ff6-983e-f2013d0c608c"
      },
      "execution_count": 18,
      "outputs": [
        {
          "output_type": "execute_result",
          "data": {
            "text/plain": [
              "array([[ 9.6],\n",
              "       [ 4. ],\n",
              "       [ 5.3],\n",
              "       [ 7.9],\n",
              "       [ 2.9],\n",
              "       [ 5.1],\n",
              "       [ 3.2],\n",
              "       [ 4.5],\n",
              "       [ 8.2],\n",
              "       [ 6.8],\n",
              "       [ 1.3],\n",
              "       [10.5],\n",
              "       [ 3. ],\n",
              "       [ 2.2],\n",
              "       [ 5.9],\n",
              "       [ 6. ],\n",
              "       [ 3.7],\n",
              "       [ 3.2],\n",
              "       [ 9. ],\n",
              "       [ 2. ],\n",
              "       [ 1.1],\n",
              "       [ 7.1],\n",
              "       [ 4.9],\n",
              "       [ 4. ]])"
            ]
          },
          "metadata": {},
          "execution_count": 18
        }
      ]
    },
    {
      "cell_type": "code",
      "source": [
        "regression = LinearRegression()\n",
        "regression.fit(y_train, z_train)"
      ],
      "metadata": {
        "colab": {
          "base_uri": "https://localhost:8080/"
        },
        "id": "yX1Pp5QkTpIp",
        "outputId": "de26e3a0-f6f1-4ecc-a91e-eac146c551a5"
      },
      "execution_count": 19,
      "outputs": [
        {
          "output_type": "execute_result",
          "data": {
            "text/plain": [
              "LinearRegression()"
            ]
          },
          "metadata": {},
          "execution_count": 19
        }
      ]
    },
    {
      "cell_type": "code",
      "source": [
        "vision_train = plt\n",
        "vision_train.scatter(y_train, z_train, color = 'blue')\n",
        "vision_train.plot(y_train, regression.predict(y_train), color = 'black')\n",
        "vision_train.title('Salario VS Pais (Entrenamiento)')\n",
        "vision_train.xlabel('Salario')\n",
        "vision_train.ylabel('Pais')\n",
        "vision_train.show()"
      ],
      "metadata": {
        "colab": {
          "base_uri": "https://localhost:8080/",
          "height": 295
        },
        "id": "VP2KVoF3TrL7",
        "outputId": "e02421dd-58da-40cc-c7a9-7efc3292e2cb"
      },
      "execution_count": 20,
      "outputs": [
        {
          "output_type": "display_data",
          "data": {
            "text/plain": [
              "<Figure size 432x288 with 1 Axes>"
            ],
            "image/png": "[encoded data removed]"
          },
          "metadata": {
            "needs_background": "light"
          }
        }
      ]
    }
  ]
}