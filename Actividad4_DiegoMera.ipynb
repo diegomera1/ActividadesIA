{
  "nbformat": 4,
  "nbformat_minor": 0,
  "metadata": {
    "colab": {
      "provenance": [],
      "authorship_tag": "ABX9TyMHhOJZfchr3zAeA4BhH9Ub",
      "include_colab_link": true
    },
    "kernelspec": {
      "name": "python3",
      "display_name": "Python 3"
    },
    "language_info": {
      "name": "python"
    }
  },
  "cells": [
    {
      "cell_type": "markdown",
      "metadata": {
        "id": "view-in-github",
        "colab_type": "text"
      },
      "source": [
        "<a href=\"https://colab.research.google.com/github/diegomera1/ActividadesIA/blob/main/Actividad4_DiegoMera.ipynb\" target=\"_parent\"><img src=\"https://colab.research.google.com/assets/colab-badge.svg\" alt=\"Open In Colab\"/></a>"
      ]
    },
    {
      "cell_type": "markdown",
      "source": [
        "# **Regresión logística con el conjunto de datos Iris en Python**"
      ],
      "metadata": {
        "id": "Aj1auTW0lZOm"
      }
    },
    {
      "cell_type": "code",
      "source": [
        "# Importar las librerías necesarias\n",
        "from sklearn.datasets import load_iris  # para cargar el conjunto de datos\n",
        "from sklearn.model_selection import train_test_split  # para dividir el conjunto de datos en entrenamiento y prueba\n",
        "from sklearn.linear_model import LogisticRegression  # para entrenar un modelo de regresión logística\n",
        "from sklearn import metrics  # para evaluar el rendimiento del modelo\n",
        "\n",
        "# Cargar el conjunto de datos\n",
        "iris = load_iris()\n",
        "X = iris.data  # características\n",
        "y = iris.target  # clases\n",
        "\n",
        "# Dividir el conjunto de datos en conjuntos de entrenamiento y prueba\n",
        "X_train, X_test, y_train, y_test = train_test_split(X, y, test_size=0.3, random_state=1)  # reservar 30% para pruebas\n",
        "\n",
        "# Crear un modelo de regresión logística\n",
        "logreg = LogisticRegression()\n",
        "\n",
        "# Entrenar el modelo con el conjunto de entrenamiento\n",
        "logreg.fit(X_train, y_train)\n",
        "\n",
        "# Hacer predicciones en el conjunto de prueba\n",
        "y_pred = logreg.predict(X_test)\n",
        "\n",
        "# Evaluar el rendimiento del modelo\n",
        "print(\"Precisión:\", metrics.accuracy_score(y_test, y_pred))"
      ],
      "metadata": {
        "colab": {
          "base_uri": "https://localhost:8080/"
        },
        "id": "9TYEz4ZOkWT1",
        "outputId": "5eab43f8-f7ab-40d0-9a5e-afd79cf9fe04"
      },
      "execution_count": 18,
      "outputs": [
        {
          "output_type": "stream",
          "name": "stdout",
          "text": [
            "Precisión: 0.9777777777777777\n"
          ]
        }
      ]
    }
  ]
}